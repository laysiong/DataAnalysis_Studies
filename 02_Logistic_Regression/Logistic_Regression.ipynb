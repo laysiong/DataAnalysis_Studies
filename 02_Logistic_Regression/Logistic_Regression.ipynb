{
 "cells": [
  {
   "cell_type": "markdown",
   "metadata": {},
   "source": [
    "# Understanding Logistic Regression Method"
   ]
  },
  {
   "cell_type": "markdown",
   "metadata": {},
   "source": [
    "It is a statistical analysis method that is often used on outcome variable that is categorical and binary. The outcome is usually a binary outcome (1 / 0, True / False, Yes / No). The outcome is the odds of it be so or happening.\n",
    "\n",
    "In Logistic Regression, the Maximum Likelihood Estimation (MLE) method finds the model that's most likely to explain the observed data. It adjusts the model to maximize this likelihood. A higher log-likelihood value means the model fits the data better.\n"
   ]
  },
  {
   "cell_type": "markdown",
   "metadata": {},
   "source": [
    "# EXAMPLE"
   ]
  },
  {
   "cell_type": "markdown",
   "metadata": {},
   "source": [
    "This example is last execrise that we have to do for ccourse Udemy The Data Science Course by 365 Careers\n",
    "\n",
    "\n",
    "The data we will be using <b>‘Bank_data_testing.csv’</b> and <b>'Bank_data.csv'</b>"
   ]
  },
  {
   "cell_type": "markdown",
   "metadata": {},
   "source": [
    "## Import the relevant libraries"
   ]
  },
  {
   "cell_type": "code",
   "execution_count": 33,
   "metadata": {},
   "outputs": [],
   "source": [
    "import numpy as np\n",
    "import pandas as pd\n",
    "import statsmodels.api as sm\n",
    "import matplotlib.pyplot as plt\n",
    "import seaborn as sns\n",
    "sns.set()\n",
    "\n",
    "#Apply a fix to the statsmodels library\n",
    "from scipy import stats\n",
    "stats.chisqprob = lambda chisq, df: stats.chi2.sf(chisq, df)"
   ]
  },
  {
   "cell_type": "markdown",
   "metadata": {},
   "source": [
    "## Load the data"
   ]
  },
  {
   "cell_type": "markdown",
   "metadata": {},
   "source": [
    "Load the ‘Bank_data.csv’ dataset."
   ]
  },
  {
   "cell_type": "code",
   "execution_count": 34,
   "metadata": {},
   "outputs": [],
   "source": [
    "raw_data=pd.read_csv('Bank_data.csv')"
   ]
  },
  {
   "cell_type": "code",
   "execution_count": 35,
   "metadata": {},
   "outputs": [
    {
     "data": {
      "text/plain": [
       "array(['no', 'yes'], dtype=object)"
      ]
     },
     "execution_count": 35,
     "metadata": {},
     "output_type": "execute_result"
    }
   ],
   "source": [
    "data = raw_data.copy()\n",
    "data['y'].unique()"
   ]
  },
  {
   "cell_type": "code",
   "execution_count": 36,
   "metadata": {},
   "outputs": [
    {
     "data": {
      "text/html": [
       "<div>\n",
       "<style scoped>\n",
       "    .dataframe tbody tr th:only-of-type {\n",
       "        vertical-align: middle;\n",
       "    }\n",
       "\n",
       "    .dataframe tbody tr th {\n",
       "        vertical-align: top;\n",
       "    }\n",
       "\n",
       "    .dataframe thead th {\n",
       "        text-align: right;\n",
       "    }\n",
       "</style>\n",
       "<table border=\"1\" class=\"dataframe\">\n",
       "  <thead>\n",
       "    <tr style=\"text-align: right;\">\n",
       "      <th></th>\n",
       "      <th>interest_rate</th>\n",
       "      <th>credit</th>\n",
       "      <th>march</th>\n",
       "      <th>may</th>\n",
       "      <th>previous</th>\n",
       "      <th>duration</th>\n",
       "      <th>y</th>\n",
       "    </tr>\n",
       "  </thead>\n",
       "  <tbody>\n",
       "    <tr>\n",
       "      <th>0</th>\n",
       "      <td>1.334</td>\n",
       "      <td>0.0</td>\n",
       "      <td>1.0</td>\n",
       "      <td>0.0</td>\n",
       "      <td>0.0</td>\n",
       "      <td>117.0</td>\n",
       "      <td>0</td>\n",
       "    </tr>\n",
       "    <tr>\n",
       "      <th>1</th>\n",
       "      <td>0.767</td>\n",
       "      <td>0.0</td>\n",
       "      <td>0.0</td>\n",
       "      <td>2.0</td>\n",
       "      <td>1.0</td>\n",
       "      <td>274.0</td>\n",
       "      <td>1</td>\n",
       "    </tr>\n",
       "    <tr>\n",
       "      <th>2</th>\n",
       "      <td>4.858</td>\n",
       "      <td>0.0</td>\n",
       "      <td>1.0</td>\n",
       "      <td>0.0</td>\n",
       "      <td>0.0</td>\n",
       "      <td>167.0</td>\n",
       "      <td>0</td>\n",
       "    </tr>\n",
       "    <tr>\n",
       "      <th>3</th>\n",
       "      <td>4.120</td>\n",
       "      <td>0.0</td>\n",
       "      <td>0.0</td>\n",
       "      <td>0.0</td>\n",
       "      <td>0.0</td>\n",
       "      <td>686.0</td>\n",
       "      <td>1</td>\n",
       "    </tr>\n",
       "    <tr>\n",
       "      <th>4</th>\n",
       "      <td>4.856</td>\n",
       "      <td>0.0</td>\n",
       "      <td>1.0</td>\n",
       "      <td>0.0</td>\n",
       "      <td>0.0</td>\n",
       "      <td>157.0</td>\n",
       "      <td>0</td>\n",
       "    </tr>\n",
       "    <tr>\n",
       "      <th>...</th>\n",
       "      <td>...</td>\n",
       "      <td>...</td>\n",
       "      <td>...</td>\n",
       "      <td>...</td>\n",
       "      <td>...</td>\n",
       "      <td>...</td>\n",
       "      <td>...</td>\n",
       "    </tr>\n",
       "    <tr>\n",
       "      <th>513</th>\n",
       "      <td>1.334</td>\n",
       "      <td>0.0</td>\n",
       "      <td>1.0</td>\n",
       "      <td>0.0</td>\n",
       "      <td>0.0</td>\n",
       "      <td>204.0</td>\n",
       "      <td>0</td>\n",
       "    </tr>\n",
       "    <tr>\n",
       "      <th>514</th>\n",
       "      <td>0.861</td>\n",
       "      <td>0.0</td>\n",
       "      <td>0.0</td>\n",
       "      <td>2.0</td>\n",
       "      <td>1.0</td>\n",
       "      <td>806.0</td>\n",
       "      <td>1</td>\n",
       "    </tr>\n",
       "    <tr>\n",
       "      <th>515</th>\n",
       "      <td>0.879</td>\n",
       "      <td>0.0</td>\n",
       "      <td>0.0</td>\n",
       "      <td>0.0</td>\n",
       "      <td>0.0</td>\n",
       "      <td>290.0</td>\n",
       "      <td>0</td>\n",
       "    </tr>\n",
       "    <tr>\n",
       "      <th>516</th>\n",
       "      <td>0.877</td>\n",
       "      <td>0.0</td>\n",
       "      <td>0.0</td>\n",
       "      <td>5.0</td>\n",
       "      <td>1.0</td>\n",
       "      <td>473.0</td>\n",
       "      <td>1</td>\n",
       "    </tr>\n",
       "    <tr>\n",
       "      <th>517</th>\n",
       "      <td>4.965</td>\n",
       "      <td>0.0</td>\n",
       "      <td>0.0</td>\n",
       "      <td>0.0</td>\n",
       "      <td>0.0</td>\n",
       "      <td>142.0</td>\n",
       "      <td>0</td>\n",
       "    </tr>\n",
       "  </tbody>\n",
       "</table>\n",
       "<p>518 rows × 7 columns</p>\n",
       "</div>"
      ],
      "text/plain": [
       "     interest_rate  credit  march  may  previous  duration  y\n",
       "0            1.334     0.0    1.0  0.0       0.0     117.0  0\n",
       "1            0.767     0.0    0.0  2.0       1.0     274.0  1\n",
       "2            4.858     0.0    1.0  0.0       0.0     167.0  0\n",
       "3            4.120     0.0    0.0  0.0       0.0     686.0  1\n",
       "4            4.856     0.0    1.0  0.0       0.0     157.0  0\n",
       "..             ...     ...    ...  ...       ...       ... ..\n",
       "513          1.334     0.0    1.0  0.0       0.0     204.0  0\n",
       "514          0.861     0.0    0.0  2.0       1.0     806.0  1\n",
       "515          0.879     0.0    0.0  0.0       0.0     290.0  0\n",
       "516          0.877     0.0    0.0  5.0       1.0     473.0  1\n",
       "517          4.965     0.0    0.0  0.0       0.0     142.0  0\n",
       "\n",
       "[518 rows x 7 columns]"
      ]
     },
     "execution_count": 36,
     "metadata": {},
     "output_type": "execute_result"
    }
   ],
   "source": [
    "#drop unnecessary data, remap text['y'] to 1 or 0\n",
    "\n",
    "data['y']=data['y'].map({'yes': 1, 'no': 0})\n",
    "data = data.drop(['Unnamed: 0'],axis = 1)\n",
    "data"
   ]
  },
  {
   "cell_type": "markdown",
   "metadata": {},
   "source": [
    "### Declare the dependent and independent variables"
   ]
  },
  {
   "cell_type": "markdown",
   "metadata": {},
   "source": [
    "Use 'duration' as the independet variable."
   ]
  },
  {
   "cell_type": "code",
   "execution_count": 37,
   "metadata": {},
   "outputs": [],
   "source": [
    "y= data['y'] #dependent variables\n",
    "x1 = data['duration'] #independent variables"
   ]
  },
  {
   "cell_type": "markdown",
   "metadata": {},
   "source": [
    "### Simple Logistic Regression"
   ]
  },
  {
   "cell_type": "markdown",
   "metadata": {},
   "source": [
    "Run the regression and graph the scatter plot."
   ]
  },
  {
   "cell_type": "code",
   "execution_count": 38,
   "metadata": {
    "scrolled": false
   },
   "outputs": [
    {
     "name": "stdout",
     "output_type": "stream",
     "text": [
      "Optimization terminated successfully.\n",
      "         Current function value: 0.546118\n",
      "         Iterations 7\n"
     ]
    },
    {
     "data": {
      "text/html": [
       "<table class=\"simpletable\">\n",
       "<caption>Logit Regression Results</caption>\n",
       "<tr>\n",
       "  <th>Dep. Variable:</th>           <td>y</td>        <th>  No. Observations:  </th>  <td>   518</td>  \n",
       "</tr>\n",
       "<tr>\n",
       "  <th>Model:</th>                 <td>Logit</td>      <th>  Df Residuals:      </th>  <td>   516</td>  \n",
       "</tr>\n",
       "<tr>\n",
       "  <th>Method:</th>                 <td>MLE</td>       <th>  Df Model:          </th>  <td>     1</td>  \n",
       "</tr>\n",
       "<tr>\n",
       "  <th>Date:</th>            <td>Sat, 16 Sep 2023</td> <th>  Pseudo R-squ.:     </th>  <td>0.2121</td>  \n",
       "</tr>\n",
       "<tr>\n",
       "  <th>Time:</th>                <td>00:36:17</td>     <th>  Log-Likelihood:    </th> <td> -282.89</td> \n",
       "</tr>\n",
       "<tr>\n",
       "  <th>converged:</th>             <td>True</td>       <th>  LL-Null:           </th> <td> -359.05</td> \n",
       "</tr>\n",
       "<tr>\n",
       "  <th>Covariance Type:</th>     <td>nonrobust</td>    <th>  LLR p-value:       </th> <td>5.387e-35</td>\n",
       "</tr>\n",
       "</table>\n",
       "<table class=\"simpletable\">\n",
       "<tr>\n",
       "      <td></td>        <th>coef</th>     <th>std err</th>      <th>z</th>      <th>P>|z|</th>  <th>[0.025</th>    <th>0.975]</th>  \n",
       "</tr>\n",
       "<tr>\n",
       "  <th>const</th>    <td>   -1.7001</td> <td>    0.192</td> <td>   -8.863</td> <td> 0.000</td> <td>   -2.076</td> <td>   -1.324</td>\n",
       "</tr>\n",
       "<tr>\n",
       "  <th>duration</th> <td>    0.0051</td> <td>    0.001</td> <td>    9.159</td> <td> 0.000</td> <td>    0.004</td> <td>    0.006</td>\n",
       "</tr>\n",
       "</table>"
      ],
      "text/plain": [
       "<class 'statsmodels.iolib.summary.Summary'>\n",
       "\"\"\"\n",
       "                           Logit Regression Results                           \n",
       "==============================================================================\n",
       "Dep. Variable:                      y   No. Observations:                  518\n",
       "Model:                          Logit   Df Residuals:                      516\n",
       "Method:                           MLE   Df Model:                            1\n",
       "Date:                Sat, 16 Sep 2023   Pseudo R-squ.:                  0.2121\n",
       "Time:                        00:36:17   Log-Likelihood:                -282.89\n",
       "converged:                       True   LL-Null:                       -359.05\n",
       "Covariance Type:            nonrobust   LLR p-value:                 5.387e-35\n",
       "==============================================================================\n",
       "                 coef    std err          z      P>|z|      [0.025      0.975]\n",
       "------------------------------------------------------------------------------\n",
       "const         -1.7001      0.192     -8.863      0.000      -2.076      -1.324\n",
       "duration       0.0051      0.001      9.159      0.000       0.004       0.006\n",
       "==============================================================================\n",
       "\"\"\""
      ]
     },
     "execution_count": 38,
     "metadata": {},
     "output_type": "execute_result"
    }
   ],
   "source": [
    "x = sm.add_constant(x1)\n",
    "reg_log = sm.Logit(y,x)\n",
    "results_log = reg_log.fit()\n",
    "\n",
    "# Get the regression summary\n",
    "results_log.summary()"
   ]
  },
  {
   "cell_type": "markdown",
   "metadata": {},
   "source": [
    "<h2> Thing to look out at summary </h2>\n",
    "\n",
    "<ol>\n",
    "\n",
    "<li>Log-Likelihood: It measures how well the model explains the data. High the value better is it. It is not always negative.</li>\n",
    "<li>LL-Null (log likelihood-null): a model which has no independent variables.</li>\n",
    "<li>LLR- p-value: it is measurement if our model is different from LL-null. Lower p-value better it is. If LL-Null >= Log-likelihood mean your model is useless.</li>\n",
    "<li>Pseudo R-squ (Mc Fadden’s R-squared) a good val is 0.2 and 0.4 is useful for comparing variation of same model. </li>\n",
    "    \n",
    "</ol>"
   ]
  },
  {
   "cell_type": "code",
   "execution_count": 39,
   "metadata": {
    "scrolled": false
   },
   "outputs": [
    {
     "data": {
      "image/png": "[encoded data removed]",
      "text/plain": [
       "<Figure size 640x480 with 1 Axes>"
      ]
     },
     "metadata": {},
     "output_type": "display_data"
    }
   ],
   "source": [
    "# Create a scatter plot of x1 (Duration, no constant) and y (Subscribed)\n",
    "plt.scatter(x1,y,color='C0')\n",
    "\n",
    "y_hat = x1*results_log.params[1]+results_log.params[0]\n",
    "plt.plot(x1,y_hat,lw=2.5,color='C8')\n",
    "\n",
    "plt.xlabel('Duration',fontsize = 20)\n",
    "plt.ylabel('Subscription',fontsize = 20)\n",
    "plt.show()"
   ]
  },
  {
   "cell_type": "markdown",
   "metadata": {},
   "source": [
    "The logistic regression line cannot be plotted the same way as a linear regression line. In logistic regression, the relationship between the independent variable(s) and the dependent variable is nonlinear. "
   ]
  },
  {
   "cell_type": "code",
   "execution_count": 40,
   "metadata": {
    "scrolled": false
   },
   "outputs": [
    {
     "data": {
      "image/png": "[encoded data removed]",
      "text/plain": [
       "<Figure size 640x480 with 1 Axes>"
      ]
     },
     "metadata": {},
     "output_type": "display_data"
    }
   ],
   "source": [
    "# Create a scatter plot of x1 (Duration, no constant) and y (Subscribed)\n",
    "plt.scatter(x1,y,color='C0')\n",
    "\n",
    "#this actually function is to undo the log.\n",
    "def f(x,b0,b1):\n",
    "    return np.array(np.exp(b0+x*b1) / (1 + np.exp(b0+x*b1)))\n",
    "\n",
    "f_sorted = np.sort(f(x1,results_log.params[0],results_log.params[1]))\n",
    "x_sorted = np.sort(np.array(x1))\n",
    "\n",
    "plt.plot(x_sorted,f_sorted,color='C8')\n",
    "\n",
    "plt.xlabel('Duration',fontsize = 20)\n",
    "plt.ylabel('Subscription',fontsize = 20)\n",
    "plt.show()"
   ]
  },
  {
   "cell_type": "markdown",
   "metadata": {},
   "source": [
    "## Expand the model"
   ]
  },
  {
   "cell_type": "markdown",
   "metadata": {},
   "source": [
    "We can be omitting many causal factors in our simple logistic model, so we instead switch to a multivariate logistic regression model. Add the ‘interest_rate’, ‘march’, ‘credit’ and ‘previous’ estimators to our model and run the regression again. "
   ]
  },
  {
   "cell_type": "markdown",
   "metadata": {},
   "source": [
    "### Declare the independent variable(s)"
   ]
  },
  {
   "cell_type": "code",
   "execution_count": 41,
   "metadata": {},
   "outputs": [],
   "source": [
    "# To avoid writing them out every time, we save the names of the estimators of our model in a list. \n",
    "estimators=['interest_rate','credit','march','previous','duration']\n",
    "\n",
    "X1_all = data[estimators]\n",
    "y = data['y']"
   ]
  },
  {
   "cell_type": "code",
   "execution_count": 42,
   "metadata": {
    "scrolled": false
   },
   "outputs": [
    {
     "name": "stdout",
     "output_type": "stream",
     "text": [
      "Optimization terminated successfully.\n",
      "         Current function value: 0.336664\n",
      "         Iterations 7\n"
     ]
    },
    {
     "data": {
      "text/html": [
       "<table class=\"simpletable\">\n",
       "<tr>\n",
       "        <td>Model:</td>              <td>Logit</td>      <td>Pseudo R-squared:</td>    <td>0.514</td>  \n",
       "</tr>\n",
       "<tr>\n",
       "  <td>Dependent Variable:</td>         <td>y</td>              <td>AIC:</td>         <td>360.7836</td> \n",
       "</tr>\n",
       "<tr>\n",
       "         <td>Date:</td>        <td>2023-09-16 00:36</td>       <td>BIC:</td>         <td>386.2834</td> \n",
       "</tr>\n",
       "<tr>\n",
       "   <td>No. Observations:</td>         <td>518</td>        <td>Log-Likelihood:</td>    <td>-174.39</td> \n",
       "</tr>\n",
       "<tr>\n",
       "       <td>Df Model:</td>              <td>5</td>            <td>LL-Null:</td>        <td>-359.05</td> \n",
       "</tr>\n",
       "<tr>\n",
       "     <td>Df Residuals:</td>           <td>512</td>         <td>LLR p-value:</td>    <td>1.2114e-77</td>\n",
       "</tr>\n",
       "<tr>\n",
       "      <td>Converged:</td>           <td>1.0000</td>           <td>Scale:</td>         <td>1.0000</td>  \n",
       "</tr>\n",
       "<tr>\n",
       "    <td>No. Iterations:</td>        <td>7.0000</td>              <td></td>               <td></td>     \n",
       "</tr>\n",
       "</table>\n",
       "<table class=\"simpletable\">\n",
       "<tr>\n",
       "        <td></td>         <th>Coef.</th>  <th>Std.Err.</th>    <th>z</th>     <th>P>|z|</th> <th>[0.025</th>  <th>0.975]</th> \n",
       "</tr>\n",
       "<tr>\n",
       "  <th>const</th>         <td>-0.0211</td>  <td>0.3113</td>  <td>-0.0677</td> <td>0.9460</td> <td>-0.6313</td> <td>0.5891</td> \n",
       "</tr>\n",
       "<tr>\n",
       "  <th>interest_rate</th> <td>-0.8001</td>  <td>0.0895</td>  <td>-8.9434</td> <td>0.0000</td> <td>-0.9755</td> <td>-0.6248</td>\n",
       "</tr>\n",
       "<tr>\n",
       "  <th>credit</th>        <td>2.3585</td>   <td>1.0875</td>  <td>2.1688</td>  <td>0.0301</td> <td>0.2271</td>  <td>4.4900</td> \n",
       "</tr>\n",
       "<tr>\n",
       "  <th>march</th>         <td>-1.8322</td>  <td>0.3297</td>  <td>-5.5563</td> <td>0.0000</td> <td>-2.4785</td> <td>-1.1859</td>\n",
       "</tr>\n",
       "<tr>\n",
       "  <th>previous</th>      <td>1.5363</td>   <td>0.5010</td>  <td>3.0666</td>  <td>0.0022</td> <td>0.5544</td>  <td>2.5182</td> \n",
       "</tr>\n",
       "<tr>\n",
       "  <th>duration</th>      <td>0.0070</td>   <td>0.0007</td>  <td>9.3810</td>  <td>0.0000</td> <td>0.0055</td>  <td>0.0084</td> \n",
       "</tr>\n",
       "</table>"
      ],
      "text/plain": [
       "<class 'statsmodels.iolib.summary2.Summary'>\n",
       "\"\"\"\n",
       "                         Results: Logit\n",
       "=================================================================\n",
       "Model:              Logit            Pseudo R-squared: 0.514     \n",
       "Dependent Variable: y                AIC:              360.7836  \n",
       "Date:               2023-09-16 00:36 BIC:              386.2834  \n",
       "No. Observations:   518              Log-Likelihood:   -174.39   \n",
       "Df Model:           5                LL-Null:          -359.05   \n",
       "Df Residuals:       512              LLR p-value:      1.2114e-77\n",
       "Converged:          1.0000           Scale:            1.0000    \n",
       "No. Iterations:     7.0000                                       \n",
       "-----------------------------------------------------------------\n",
       "                   Coef.  Std.Err.    z    P>|z|   [0.025  0.975]\n",
       "-----------------------------------------------------------------\n",
       "const             -0.0211   0.3113 -0.0677 0.9460 -0.6313  0.5891\n",
       "interest_rate     -0.8001   0.0895 -8.9434 0.0000 -0.9755 -0.6248\n",
       "credit             2.3585   1.0875  2.1688 0.0301  0.2271  4.4900\n",
       "march             -1.8322   0.3297 -5.5563 0.0000 -2.4785 -1.1859\n",
       "previous           1.5363   0.5010  3.0666 0.0022  0.5544  2.5182\n",
       "duration           0.0070   0.0007  9.3810 0.0000  0.0055  0.0084\n",
       "=================================================================\n",
       "\n",
       "\"\"\""
      ]
     },
     "execution_count": 42,
     "metadata": {},
     "output_type": "execute_result"
    }
   ],
   "source": [
    "X_all = sm.add_constant(X1_all)\n",
    "reg_logit = sm.Logit(y,X_all)\n",
    "results_logit = reg_logit.fit()\n",
    "\n",
    "# Get the regression summary\n",
    "results_logit.summary2()"
   ]
  },
  {
   "cell_type": "code",
   "execution_count": null,
   "metadata": {},
   "outputs": [],
   "source": []
  },
  {
   "cell_type": "markdown",
   "metadata": {},
   "source": [
    "### Confusion Matrix"
   ]
  },
  {
   "cell_type": "markdown",
   "metadata": {},
   "source": [
    "Find the confusion matrix of the model and estimate its accuracy. \n",
    "<br><i> For convenience we have already provided you with a function that finds the confusion matrix and the model accuracy.</i>"
   ]
  },
  {
   "cell_type": "code",
   "execution_count": 43,
   "metadata": {},
   "outputs": [],
   "source": [
    "def confusion_matrix(data,actual_values,model):\n",
    "        \n",
    "        # Confusion matrix \n",
    "        \n",
    "        # Parameters\n",
    "        # ----------\n",
    "        # data: data frame or array\n",
    "            # data is a data frame formatted in the same way as your input data (without the actual values)\n",
    "            # e.g. const, var1, var2, etc. Order is very important!\n",
    "        # actual_values: data frame or array\n",
    "            # These are the actual values from the test_data\n",
    "            # In the case of a logistic regression, it should be a single column with 0s and 1s\n",
    "            \n",
    "        # model: a LogitResults object\n",
    "            # this is the variable where you have the fitted model \n",
    "            # e.g. results_log in this course\n",
    "        # ----------\n",
    "        \n",
    "        #Predict the values using the Logit model\n",
    "        pred_values = model.predict(data)\n",
    "        # Specify the bins \n",
    "        bins=np.array([0,0.5,1])\n",
    "        # Create a histogram, where if values are between 0 and 0.5 tell will be considered 0\n",
    "        # if they are between 0.5 and 1, they will be considered 1\n",
    "        cm = np.histogram2d(actual_values, pred_values, bins=bins)[0]\n",
    "        # Calculate the accuracy\n",
    "        accuracy = (cm[0,0]+cm[1,1])/cm.sum()\n",
    "        # Return the confusion matrix and \n",
    "        return cm, accuracy"
   ]
  },
  {
   "cell_type": "code",
   "execution_count": 44,
   "metadata": {},
   "outputs": [
    {
     "data": {
      "text/plain": [
       "(array([[218.,  41.],\n",
       "        [ 30., 229.]]),\n",
       " 0.862934362934363)"
      ]
     },
     "execution_count": 44,
     "metadata": {},
     "output_type": "execute_result"
    }
   ],
   "source": [
    "confusion_matrix(X_all,y,results_logit) "
   ]
  },
  {
   "cell_type": "markdown",
   "metadata": {},
   "source": [
    "## Test the model\n",
    "Load the test data from the ‘Bank_data_testing.csv’ file provided. (Remember to convert the outcome variable ‘y’ into Boolean). \n",
    "<br>(There is split data to train and test data (20%, 80%) that was taught previously)"
   ]
  },
  {
   "cell_type": "code",
   "execution_count": 45,
   "metadata": {},
   "outputs": [],
   "source": [
    "#testing data\n",
    "raw_testdata=pd.read_csv('Bank_data_testing.csv') "
   ]
  },
  {
   "cell_type": "code",
   "execution_count": 46,
   "metadata": {},
   "outputs": [],
   "source": [
    "#drop unnecessary data, remap text['y'] to 1 or 0\n",
    "\n",
    "test_data = raw_testdata.copy()\n",
    "test_data['y']=test_data['y'].map({'yes': 1, 'no': 0})\n",
    "test_data = test_data.drop(['Unnamed: 0'],axis = 1)"
   ]
  },
  {
   "cell_type": "markdown",
   "metadata": {},
   "source": [
    "### Declare the dependent and the independent variables"
   ]
  },
  {
   "cell_type": "code",
   "execution_count": 50,
   "metadata": {},
   "outputs": [],
   "source": [
    "estimators=['interest_rate','credit','march','previous','duration']\n",
    "\n",
    "y_test = test_data['y']\n",
    "\n",
    "X1_test = test_data[estimators]\n",
    "X_test = sm.add_constant(X1_test)"
   ]
  },
  {
   "cell_type": "code",
   "execution_count": 52,
   "metadata": {},
   "outputs": [
    {
     "data": {
      "text/plain": [
       "(array([[93., 18.],\n",
       "        [13., 98.]]),\n",
       " 0.8603603603603603)"
      ]
     },
     "execution_count": 52,
     "metadata": {},
     "output_type": "execute_result"
    }
   ],
   "source": [
    "# Testing Data\n",
    "\n",
    "confusion_matrix(X_test, y_test, results_logit)"
   ]
  },
  {
   "cell_type": "markdown",
   "metadata": {
    "scrolled": true
   },
   "source": [
    "Determine the test confusion matrix and the test accuracy and compare them with the train confusion matrix and the train accuracy."
   ]
  },
  {
   "cell_type": "code",
   "execution_count": 53,
   "metadata": {
    "scrolled": true
   },
   "outputs": [
    {
     "data": {
      "text/plain": [
       "(array([[218.,  41.],\n",
       "        [ 30., 229.]]),\n",
       " 0.862934362934363)"
      ]
     },
     "execution_count": 53,
     "metadata": {},
     "output_type": "execute_result"
    }
   ],
   "source": [
    "# Training data\n",
    "\n",
    "confusion_matrix(X_all,y,results_logit)"
   ]
  },
  {
   "cell_type": "markdown",
   "metadata": {},
   "source": [
    "Test accuracy is 86.04% compared to 86.29% for train accuracy. \n",
    "\n",
    "The difference within 1-5% between training and testing accuracy is often considered acceptable It suggests that the model is neither overfitting nor underfitting.\n",
    "\n",
    "If the test results is to reutrn low test accuracy but high train accuracy. It will mean the model is overfitted."
   ]
  }
 ],
 "metadata": {
  "kernelspec": {
   "display_name": "Python 3 (ipykernel)",
   "language": "python",
   "name": "python3"
  },
  "language_info": {
   "codemirror_mode": {
    "name": "ipython",
    "version": 3
   },
   "file_extension": ".py",
   "mimetype": "text/x-python",
   "name": "python",
   "nbconvert_exporter": "python",
   "pygments_lexer": "ipython3",
   "version": "3.9.13"
  }
 },
 "nbformat": 4,
 "nbformat_minor": 2
}
